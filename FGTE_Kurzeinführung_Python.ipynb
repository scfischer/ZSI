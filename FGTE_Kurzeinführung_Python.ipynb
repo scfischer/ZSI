{
 "cells": [
  {
   "cell_type": "markdown",
   "metadata": {},
   "source": [
    "# Einführung in Python"
   ]
  },
  {
   "cell_type": "code",
   "execution_count": null,
   "metadata": {},
   "outputs": [],
   "source": []
  },
  {
   "cell_type": "markdown",
   "metadata": {},
   "source": [
    "## Jupyter Notebooks\n",
    "### Was ist ein Jupyter Notebook?\n",
    "Interaktive Umgebung zum Schreiben, Testen und Ausführen von Code und Präsentation der Ergebnisse. Eignet sich gut zur Auswertung wissenschaftlicher Daten. Jupyter wird hauptsächlich für die Programiersprache Python verwendet.\n",
    "\n",
    "### Was kann ein Notebook? / Warum ein Notebook verwenden?\n",
    "Ein Notebook combiniert Code und dessen Ausgabe in einem einzelnen Dokument. Zudem bietet es die Möglichkeit zur Visualisierung, dem Einfügen erklärender Texte, mathematischer Formeln oder anderer zusätzlicher Medien um das Projekt zu beschreiben.\n",
    "\n",
    "### Aufgaben:\n",
    "> - Starte Jupyter über das Terminal\n",
    "- Öffne das Übungsnotebook\n",
    "- Führe grundlegende Funktionen aus: \n",
    "    - Führe eine Codezeile aus (Shift+Enter)    \n",
    "    - Erzeuge eine Textzeile und darin eine Überschrift und Text"
   ]
  },
  {
   "cell_type": "code",
   "execution_count": null,
   "metadata": {},
   "outputs": [],
   "source": [
    "print(\"Hallo Welt, ich bin ein Python Code\")"
   ]
  },
  {
   "cell_type": "markdown",
   "metadata": {},
   "source": [
    "## Grundlagen Python\n",
    "### Was sind Datentypen?\n",
    "Jedem Objekt wird von Python ein Datentyp zugeordnet. Nicht jeder Befehl ist auf jeden Datentyp anwendbar, daher ist es teilweise wichtig einem Objekt durch einen Befahl einen anderen Datentyp zuzuordnen. Der Datentyp int wird z.B. durch int(x) zugeordnet, wobei x das Objekt ist.<br> Beispiele für Datentypen sind:\n",
    "- int: ganze Zahlen\n",
    "- float: Gleitkommazahlen\n",
    "- str: Zeichenketten(Text)\n",
    "- list: Liste von Variablen, Zahlen,...\n",
    "- dict: Wörterbuch"
   ]
  },
  {
   "cell_type": "markdown",
   "metadata": {},
   "source": [
    "### Aufgaben:\n",
    "> - Teste die Typen verschiedener Eingaben! (in die Klammern einfügen)"
   ]
  },
  {
   "cell_type": "code",
   "execution_count": null,
   "metadata": {},
   "outputs": [],
   "source": [
    "type(1)"
   ]
  },
  {
   "cell_type": "code",
   "execution_count": null,
   "metadata": {},
   "outputs": [],
   "source": [
    "type('a')"
   ]
  },
  {
   "cell_type": "markdown",
   "metadata": {},
   "source": [
    "### Was sind Variable?\n",
    "Eine Variable ist in Python wie in der Mathematik ein Platzhalter, welcher verschiedene Werte symbolisieren kann. <br>So kann der Variablen: t, für z.B. Zeit, der Wert: 5 zugeordnet werden.<br>Sobald einer Variable ein Wert zugeordnet wurde, kann dieser Wert später über die Variable abgerufen werden. In Jupyter ist die Zuordnung einer Variable global, das heißt  auch über Codefeld Grenzen hinweg abrufbar. Als Variable kann jeder Buchstabe oder ganze Wörter verwendet werden:\n",
    "```Python\n",
    "t = 5\n",
    "v = -9\n",
    "variable = 59\n",
    "\n",
    "t #lässt den Inhalt der Variable t anzeigen\n",
    "```\n",
    "\n",
    "### Was sind Operatoren?\n",
    "Operatoren sind grundlegende Befehle, welche man im Code ausführen lassen kann, z.B. eine Addition oder der Test ob zwei Werte identisch sind.\n",
    "<br>Mathematische Operatoren:\n",
    "```Python\n",
    "+    -    *    /\n",
    "```\n",
    "Logische Operatoren:\n",
    "```Python\n",
    "== #ist identisch mit\n",
    "> #ist größer als\n",
    "< #ist kleiner als\n",
    "```\n",
    "Verkettungen:\n",
    "```Python\n",
    "a and b == x #a und b haben den gleichen Wert wie x\n",
    "a or b == x #a oder b hat den gleichen Wert wie x\n",
    "```"
   ]
  },
  {
   "cell_type": "markdown",
   "metadata": {},
   "source": [
    "### Aufgaben:\n",
    "> - Überlege dir erst das Ergebnis und führe dann die Rechen- und Logikaufgaben aus"
   ]
  },
  {
   "cell_type": "code",
   "execution_count": null,
   "metadata": {},
   "outputs": [],
   "source": [
    "a = 4\n",
    "b = 5\n",
    "a"
   ]
  },
  {
   "cell_type": "code",
   "execution_count": null,
   "metadata": {},
   "outputs": [],
   "source": [
    "x = 1 + a\n",
    "y = b - 7\n",
    "z = 9 * a\n",
    "x, y, z"
   ]
  },
  {
   "cell_type": "code",
   "execution_count": null,
   "metadata": {},
   "outputs": [],
   "source": [
    "b == 7"
   ]
  },
  {
   "cell_type": "code",
   "execution_count": null,
   "metadata": {},
   "outputs": [],
   "source": [
    "7 > b"
   ]
  },
  {
   "cell_type": "code",
   "execution_count": null,
   "metadata": {},
   "outputs": [],
   "source": [
    "8 > 5 and 7 > b"
   ]
  },
  {
   "cell_type": "code",
   "execution_count": null,
   "metadata": {},
   "outputs": [],
   "source": [
    "4 > b and 7 > 5"
   ]
  },
  {
   "cell_type": "code",
   "execution_count": null,
   "metadata": {},
   "outputs": [],
   "source": [
    "4 > 5 or 7 > b"
   ]
  },
  {
   "cell_type": "markdown",
   "metadata": {},
   "source": [
    "> - Rechne und teste eigene Aufgaben \n",
    "<br>(+ Funktioniert auch mit zwei Strings)"
   ]
  },
  {
   "cell_type": "code",
   "execution_count": null,
   "metadata": {},
   "outputs": [],
   "source": []
  },
  {
   "cell_type": "code",
   "execution_count": null,
   "metadata": {},
   "outputs": [],
   "source": []
  },
  {
   "cell_type": "code",
   "execution_count": null,
   "metadata": {},
   "outputs": [],
   "source": []
  },
  {
   "cell_type": "markdown",
   "metadata": {},
   "source": [
    "### Was sind Listen?\n",
    "Eine Liste ist, wie der Name schon vermuten lässt ein Datensatz welcher eine Gruppe/Liste von Werten enthält. Sie können in Variablen gespeichert werden. Um eine Liste zu definieren gibt es zwei Möglichkeiten:\n",
    "```Python \n",
    "x = list(1,2,3)  \n",
    "x = [1,2,3]\n",
    "```\n",
    "Will man ein Element einer Liste auslesen, so nutzt man die Variable in welcher man die Liste gespeichert hat zusammen mit einem Aufruf der Position: \n",
    "```Python\n",
    "x[2] #ruft die 3. Position der Liste in x auf, da die Listen mit Position 0 beginnen\n",
    "```"
   ]
  },
  {
   "cell_type": "markdown",
   "metadata": {},
   "source": [
    "### Aufgaben:\n",
    "> - Erstelle eine Liste, welche die Zahlen 5,7,8,9,2 und 3 enthält (bitte Reihenfolge beachten), speichere sie in einer Variable und lass sie anzeigen\n",
    "> - Lasse Position 2 und 5 der Liste ausgeben (in der gleichen Zeile mit , trennen)\n",
    "> - Erzeuge eine eigene Liste mit Zahlen oder Wörtern und lass sie anzeigen"
   ]
  },
  {
   "cell_type": "markdown",
   "metadata": {},
   "source": [
    "## Eingebaute Funktionen\n",
    "### Was sind Funktionen?\n",
    "In Python können Bausteine oder ganze Skripte als Funkion hinterlegt werden. Diese Funktionen sind stehts ein Wort mit direkt folgenden Klammern, welche Parameter enthalten können. Zwei solcher Funktionen wurden in dieser Übung bereits verwendet: `print()` und `type()`. <br> `print()` z.B. schreibt die in der Klammer enthaltenen Parameter (diese können fast jeder Datentyp sein) in die Ausgabe des Programms. Solche bereits im Grundmodul von Python enthaltenen Fukntionen werden eingebaute (build-in) Funktionen genannt. Der Nutzer kann auch selbst Funktionen definieren oder in sogenannten Paketen sind zusätzliche Funktionen enthalten.\n",
    "#### Eingebaute Funktionen:\n",
    "- print()\n",
    "- type()\n",
    "- min() / max()\n",
    "- help()\n",
    "- ...\n",
    "\n",
    "### Aufgaben:\n",
    "> - Lass den Text: Ich bin ein String!, ausgeben"
   ]
  },
  {
   "cell_type": "markdown",
   "metadata": {},
   "source": [
    "> - Nutze die Fuktion help() um dir Informationen zur Funktion min() oder max() ausgeben zu lassen (ohne () eingeben)"
   ]
  },
  {
   "cell_type": "code",
   "execution_count": null,
   "metadata": {
    "scrolled": true
   },
   "outputs": [],
   "source": [
    "help(max)"
   ]
  },
  {
   "cell_type": "markdown",
   "metadata": {},
   "source": [
    "> - Wende die Funktionen min() und max() auf die erste oben generierte Liste an"
   ]
  },
  {
   "cell_type": "code",
   "execution_count": null,
   "metadata": {},
   "outputs": [],
   "source": [
    "max(l)"
   ]
  },
  {
   "cell_type": "markdown",
   "metadata": {},
   "source": [
    "## Pakete laden\n",
    "### Was sind Pakete?\n",
    "Python ist eine modulare Programmiersprache, das heißt es gibt viele vorgefertigte Pakete mit nützlichen Funktionen. Diese Pakete liefern die für ihre Funktionen optimalen Arbeitsbedingungen mit, so kann eine deutlich gesteigerte Arbeitsgeschwindigkeit erziehlt werden.<br>Beispiele für solche Module sind: pandas, numpy, stats und matplotlib.pyplot \n",
    "\n",
    "### Wie lädt man Pakete?\n",
    "Um Pakete zu laden, benötigt es zusätzliche Zeilen am Anfang eines Skripts:\n",
    "```Python\n",
    "import paket #lädt das Paket: paket\n",
    "import paket as pk #lädt das Paket: paket in die Variable pk\n",
    "```\n",
    "Ein Paket in eine Variable zu laden macht dann Sinn, wenn es oft verwendet wird und/oder der Name des Pakets lang ist.\n",
    "\n",
    "### Aufgabe:\n",
    "> - Füge dem abgebildeten Code eine Zeile hinzu, damit er funktioniert <br>(lade das benötigte Paket: pandas, als: pd)"
   ]
  },
  {
   "cell_type": "code",
   "execution_count": null,
   "metadata": {},
   "outputs": [],
   "source": [
    "pd.DataFrame({'Spalte1': [1,2,3,4,5,6], 'Spalte2':[6,5,4,3,2,1]}) #Diese Code Zeile erzeugt eine Tabelle"
   ]
  },
  {
   "cell_type": "markdown",
   "metadata": {},
   "source": [
    "## For-Schleifen\n",
    "Mit dem `for` Befehl kann man Befehle wiederholt ausführen lassen. Die Anzahl der Wiederholungen wird durch Objekte festgelegt über die iteriert wird. Das sieht dann folgendermaßen aus:<br> <br>\n",
    "``for target in iterable:\n",
    "    statement(s)``\n",
    "<br><br>\n",
    "Die Keywörter `for` und `in` müssen dabei immer zusammen verwendet werden und am Ende der Zeile muss ein Doppelpunkt stehen.<br>\n",
    "`target` gibt die Kontrollvariable der Iteration an und durch den `for` Befehl nimmt diese Variable nach und nach die Einträge von `iterable` an. In jedem Schritt wird `statement` ausgeführt. Die For-Schleife endet, wenn für jedes Element aus `iterable` die Befehle in `statement` einmal ausgeführt wurden.\n",
    "    "
   ]
  },
  {
   "cell_type": "code",
   "execution_count": null,
   "metadata": {},
   "outputs": [],
   "source": [
    "for word in ['word1', 'word2', 'word3', 'word4']:\n",
    "    print(word)"
   ]
  },
  {
   "cell_type": "code",
   "execution_count": null,
   "metadata": {},
   "outputs": [],
   "source": [
    "for i in [1,2,3,4,5]:\n",
    "    if i > 3:\n",
    "        print(i)"
   ]
  },
  {
   "cell_type": "markdown",
   "metadata": {},
   "source": [
    "Häufig möchte man eine For-Schleife in Verbindung mit einer Anzahl von Integern verwenden. In Python hilft dabei die eingebaute Funktion `range()` <br>\n",
    "`range(x)` erzeugt eine Sequenz von aufeinanderfolgenden Integern von 0 bis x-1. <br>\n",
    "Möchte man n Mal den selben Code ausführen gelingt das so:<br><br>\n",
    "``for target in range(n):\n",
    "    statement(s)``\n"
   ]
  },
  {
   "cell_type": "code",
   "execution_count": null,
   "metadata": {},
   "outputs": [],
   "source": [
    "for i in range(5,0,-1):\n",
    "        print(i)"
   ]
  },
  {
   "cell_type": "markdown",
   "metadata": {},
   "source": [
    "## Für die Schnellen\n",
    "> - Schreibe dein erstes vollständiges Skript, es soll:\n",
    "    - zehn Rechenoperationen durchführen und die Ergebnisse in Variablen speichern\n",
    "    - aus den Variablen zwei Listen je 5 Variable erzeugen, lass diese anzeigen\n",
    "    - den größten und kleinsten Wert in jeder Liste finden und speichern\n",
    "     \n",
    "> - Für die mit großem Interesse (hole dir zusätzliche Infos):\n",
    "    - Erzeugt aus euren Ergebnissen eine Tabelle mit den Spalten: 'R1','R2','R3','R4','R5', 'min', 'max'"
   ]
  }
 ],
 "metadata": {
  "kernelspec": {
   "display_name": "Python 3",
   "language": "python",
   "name": "python3"
  },
  "language_info": {
   "codemirror_mode": {
    "name": "ipython",
    "version": 3
   },
   "file_extension": ".py",
   "mimetype": "text/x-python",
   "name": "python",
   "nbconvert_exporter": "python",
   "pygments_lexer": "ipython3",
   "version": "3.7.1"
  }
 },
 "nbformat": 4,
 "nbformat_minor": 2
}
