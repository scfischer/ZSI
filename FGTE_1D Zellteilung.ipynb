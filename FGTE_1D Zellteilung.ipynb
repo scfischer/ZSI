{
 "cells": [
  {
   "cell_type": "markdown",
   "id": "65dc2299",
   "metadata": {},
   "source": [
    "# <center> Eindimensionales Zellteilungsmodell\n",
    "### <center> [AG Supramolekulare und zelluläre Simulationen](https://www.biozentrum.uni-wuerzburg.de/cctb/research/supramolecular-and-cellular-simulations/) **<center> (Prof. Fischer)**\n",
    "**<center> CCTB, Fakultät für Biologie, Universität Würzburg**\n",
    "**<center> Fragen und Anregungen gerne an sabine.fischer@uni-wuerzburg.de**"
   ]
  },
  {
   "cell_type": "markdown",
   "id": "b51e2d99",
   "metadata": {},
   "source": [
    "## Pakete laden"
   ]
  },
  {
   "cell_type": "code",
   "execution_count": null,
   "id": "650f7c58",
   "metadata": {},
   "outputs": [],
   "source": [
    "import numpy as np\n",
    "import matplotlib.pyplot as plt"
   ]
  },
  {
   "cell_type": "markdown",
   "id": "8fdb3c81",
   "metadata": {},
   "source": [
    "## Anfangsbedingungen und Parameterwerte"
   ]
  },
  {
   "cell_type": "code",
   "execution_count": null,
   "id": "55f41039",
   "metadata": {},
   "outputs": [],
   "source": [
    "cells=[[11,0.5]] #Jede Zelle wird durch ihre Position und ihren Radius beschrieben."
   ]
  },
  {
   "cell_type": "code",
   "execution_count": null,
   "id": "3f8c843a",
   "metadata": {},
   "outputs": [],
   "source": [
    "limsx=(0,22) #Grenzwerte für die x- und y-Achsen\n",
    "limsy=(0,2)\n",
    "height=2 #die 'Höhe' der Zelle fürs Plotten"
   ]
  },
  {
   "cell_type": "markdown",
   "id": "420ba6ec",
   "metadata": {},
   "source": [
    "## Graphische Darstellung"
   ]
  },
  {
   "cell_type": "code",
   "execution_count": null,
   "id": "a3532762",
   "metadata": {},
   "outputs": [],
   "source": [
    "fig1 = plt.figure()\n",
    "ax1 = fig1.add_subplot(111, aspect='equal')\n",
    "[position,radius]=cells[0]\n",
    "ax1.add_patch(\n",
    "    plt.Rectangle((position-radius, 0), 2*radius, height, edgecolor='black',alpha=0.3))\n",
    "plt.xlim(limsx)\n",
    "plt.ylim(limsy)\n",
    "plt.show()"
   ]
  },
  {
   "cell_type": "markdown",
   "id": "4d75f0b3",
   "metadata": {},
   "source": [
    "## 1. Zellwachstum"
   ]
  },
  {
   "cell_type": "code",
   "execution_count": null,
   "id": "6aeb7a4f",
   "metadata": {},
   "outputs": [],
   "source": [
    "cells=[[11,1]] #Zellen verdoppeln Ihren Radius"
   ]
  },
  {
   "cell_type": "code",
   "execution_count": null,
   "id": "03445096",
   "metadata": {},
   "outputs": [],
   "source": [
    "fig1 = plt.figure()\n",
    "ax1 = fig1.add_subplot(111, aspect='equal')\n",
    "[position,radius]=cells[0]\n",
    "ax1.add_patch(\n",
    "    plt.Rectangle((position-radius, 0), 2*radius, height, edgecolor='black',alpha=0.3))\n",
    "plt.xlim(limsx)\n",
    "plt.ylim(limsy)\n",
    "plt.show()"
   ]
  },
  {
   "cell_type": "markdown",
   "id": "5d3b0f78",
   "metadata": {},
   "source": [
    "**Aufgabe: Können Sie das als Rechenvorschrift schreiben?**"
   ]
  },
  {
   "cell_type": "code",
   "execution_count": null,
   "id": "51b30afa",
   "metadata": {},
   "outputs": [],
   "source": []
  },
  {
   "cell_type": "markdown",
   "id": "f07f6763",
   "metadata": {},
   "source": [
    "**Testen Sie Ihre Rechenvorschrift für eine und mehrere Zellen und plotten Sie das Ergebnis. (z.B. für cells=[[11,0.5]] oder cells=[[4,0.5],[11,0.5]])**"
   ]
  },
  {
   "cell_type": "markdown",
   "id": "0634a4e3",
   "metadata": {},
   "source": [
    "Tipp: um mehrere Zellen zu Plotten, erzetzen Sie einfach die Zeilen <br/>\n",
    "````Python\n",
    "[position,radius]=cells[0] \n",
    "ax1.add_patch(\n",
    "    plt.Rectangle((position-radius, 0), 2*radius, height, edgecolor='black',alpha=0.3))\n",
    "````\n",
    "durch\n",
    "````Python\n",
    "for [position,radius] in cells:\n",
    "ax1.add_patch(\n",
    "    plt.Rectangle((position-radius, 0), 2*radius, height, edgecolor='black',alpha=0.3))\n",
    "````"
   ]
  },
  {
   "cell_type": "code",
   "execution_count": null,
   "id": "f304d983",
   "metadata": {},
   "outputs": [],
   "source": []
  },
  {
   "cell_type": "markdown",
   "id": "3d001550",
   "metadata": {},
   "source": [
    "**Statt den Zellradius auf einmal zu verdoppeln, verwenden sie das logistische Wachstumsmodell, d.h. insbesondere die Vorschrift**\n",
    "````Python\n",
    "radius=radius+dt*(radius*(1-radius)), \n",
    "````\n",
    "**wobei dt ein Zeitschritt ist.**"
   ]
  },
  {
   "cell_type": "code",
   "execution_count": null,
   "id": "0fa23eee",
   "metadata": {},
   "outputs": [],
   "source": []
  },
  {
   "cell_type": "markdown",
   "id": "37bd9ff2",
   "metadata": {},
   "source": [
    "**Testen Sie Ihre Rechenvorschrift für eine und mehrere Zellen und plotten Sie das Ergebnis nach 1000 Zeitschritten. (Wählen Sie dt=0.01.)**"
   ]
  },
  {
   "cell_type": "code",
   "execution_count": null,
   "id": "388e01a9",
   "metadata": {},
   "outputs": [],
   "source": []
  },
  {
   "cell_type": "markdown",
   "id": "ec2e7c89",
   "metadata": {},
   "source": [
    "## 2. Zellteilung"
   ]
  },
  {
   "cell_type": "code",
   "execution_count": null,
   "id": "168b7860",
   "metadata": {},
   "outputs": [],
   "source": [
    "cells=[[10.5,0.5],[11.5,0.5]] #Zellteilung: Neue position: alte Position + und - radius/2, neuer Radius ist die Hälfte des alten Radius"
   ]
  },
  {
   "cell_type": "code",
   "execution_count": null,
   "id": "6567a383",
   "metadata": {},
   "outputs": [],
   "source": [
    "fig1 = plt.figure()\n",
    "ax1 = fig1.add_subplot(111, aspect='equal')\n",
    "for [position,radius] in cells:\n",
    "    ax1.add_patch(\n",
    "        plt.Rectangle((position-radius, 0), 2*radius, 2, edgecolor='black',alpha=0.3))\n",
    "plt.xlim(limsx)\n",
    "plt.ylim(limsy)\n",
    "plt.show()"
   ]
  },
  {
   "cell_type": "markdown",
   "id": "eccca216",
   "metadata": {},
   "source": [
    "**Aufgabe: Können Sie das als Rechenvorschrift schreiben?** "
   ]
  },
  {
   "cell_type": "code",
   "execution_count": null,
   "id": "e4f77b7e",
   "metadata": {},
   "outputs": [],
   "source": []
  },
  {
   "cell_type": "markdown",
   "id": "0a73d66e",
   "metadata": {},
   "source": [
    "**Testen Sie Ihre Rechenvorschrift für eine Zelle und plotten Sie das Ergebnis.** "
   ]
  },
  {
   "cell_type": "code",
   "execution_count": null,
   "id": "8c0b701b",
   "metadata": {},
   "outputs": [],
   "source": []
  },
  {
   "cell_type": "markdown",
   "id": "ba3dc4ab",
   "metadata": {},
   "source": [
    "## 3. Mechanische Interaktionen"
   ]
  },
  {
   "cell_type": "markdown",
   "id": "073cbf0b",
   "metadata": {},
   "source": [
    "Ohne mechanische Interaktionen würden die Zellen irgendwann stark überlappen"
   ]
  },
  {
   "attachments": {
    "image.png": {
     "image/png": "[encoded data removed]"
    }
   },
   "cell_type": "markdown",
   "id": "7e6bf57f",
   "metadata": {},
   "source": [
    "**Aufgabe: Testen Sie z.B. Ihre Rechenvorschrift für das Zellwchstum für die Anfangsbedingung cells=[[10,0.5],[11,0.5]] und plotten Sie das Ergebnis nach 1000 Zeitschritten mit dt=0.01.<br/>\n",
    "Das Ergebnis würde dann so aussehen:**\n",
    "![image.png](attachment:image.png)"
   ]
  },
  {
   "cell_type": "markdown",
   "id": "1b1d79a4",
   "metadata": {},
   "source": [
    "Für die mechanischen Interaktionen benötigt man eine Kraft, die abstoßend wirkt, wenn die Zellen überlappen, anziehend falls die Zellen nah beisammen sind und verschwindet wenn zwei Zellen weit auseinander sind.\n",
    "Wir verwenden eine Kraft, die auf dem Morse-Potential beruht."
   ]
  },
  {
   "cell_type": "markdown",
   "id": "e4dd93be",
   "metadata": {},
   "source": [
    "Anfangswerte für Zellen"
   ]
  },
  {
   "cell_type": "code",
   "execution_count": null,
   "id": "6512b4bd",
   "metadata": {},
   "outputs": [],
   "source": [
    "cells=[[8.25, 0.5],\n",
    " [9.25, 0.5],\n",
    " [10.75, 0.5],\n",
    " [11.75, 0.5]]"
   ]
  },
  {
   "cell_type": "code",
   "execution_count": null,
   "id": "b1cb282b",
   "metadata": {},
   "outputs": [],
   "source": [
    "fig1 = plt.figure()\n",
    "ax1 = fig1.add_subplot(111, aspect='equal')\n",
    "for [position,radius] in cells:\n",
    "    ax1.add_patch(\n",
    "        plt.Rectangle((position-radius, 0), 2*radius, 2, edgecolor='black',alpha=0.3))\n",
    "plt.xlim(limsx)\n",
    "plt.ylim(limsy)\n",
    "plt.title('cell growth and displacement')\n",
    "plt.show()        "
   ]
  },
  {
   "cell_type": "markdown",
   "id": "230968b2",
   "metadata": {},
   "source": [
    "Parameterwerte"
   ]
  },
  {
   "cell_type": "code",
   "execution_count": null,
   "id": "3510a5ac",
   "metadata": {},
   "outputs": [],
   "source": [
    "F0=0.01\n",
    "alpha=3\n",
    "sigma=0.8\n",
    "\n",
    "dt=0.01"
   ]
  },
  {
   "cell_type": "markdown",
   "id": "c4526b31",
   "metadata": {},
   "source": [
    "**Aufgabe: Schauen Sie sich den Code genau an. An welcher Stelle wird das Zellwachstum berechnet? Wo wird die Distanz zwichen zwei Zellen berechnet und wo findet sich die Kraft?**"
   ]
  },
  {
   "cell_type": "code",
   "execution_count": null,
   "id": "83b64a29",
   "metadata": {},
   "outputs": [],
   "source": [
    "for timeStep in range(10000):\n",
    "    for (i,[position,radius]) in enumerate(cells):\n",
    "        radius=radius+dt*(radius*(1-radius))\n",
    "        cells[i]=[position,radius]\n",
    "\n",
    "    cellsOld=cells.copy()\n",
    "    for (i,[position,radius]) in enumerate(cells):\n",
    "        forceList=[]\n",
    "        for j in range(len(cellsOld)):\n",
    "            dist=cellsOld[j][0]-position\n",
    "            radiusSum=cellsOld[j][1]+radius\n",
    "            \n",
    "            if dist==0:\n",
    "                norm_dist=1 #to avoid error message because of divison by zero\n",
    "            else: norm_dist=abs(dist) \n",
    "           \n",
    "            if dist>radiusSum:\n",
    "                 F=0\n",
    "            else: F = F0*2*alpha*(np.exp(-alpha*(norm_dist-radiusSum*sigma)) \n",
    "                                   - np.exp(-2*alpha*(norm_dist-radiusSum*sigma)))*dist/norm_dist\n",
    "            forceList.append(F)\n",
    "      \n",
    "        force=np.sum(forceList)\n",
    "        position=position+dt*force\n",
    "        cells[i]=[position,radius] \n",
    "\n",
    "fig1 = plt.figure()\n",
    "ax1 = fig1.add_subplot(111, aspect='equal')\n",
    "for [position,radius] in cells:\n",
    "    ax1.add_patch(\n",
    "        plt.Rectangle((position-radius, 0), 2*radius, 2, edgecolor='black', alpha=0.3))\n",
    "plt.xlim(limsx)\n",
    "plt.ylim(limsy)\n",
    "plt.title('cell growth and displacement')\n",
    "plt.show()        "
   ]
  },
  {
   "cell_type": "markdown",
   "id": "2d3597df",
   "metadata": {},
   "source": [
    "**Lassen sie sich die neuen Positionen und Radien der Zellen ausgeben:**"
   ]
  },
  {
   "cell_type": "code",
   "execution_count": null,
   "id": "4808b581",
   "metadata": {},
   "outputs": [],
   "source": []
  },
  {
   "cell_type": "markdown",
   "id": "948c2a01",
   "metadata": {},
   "source": [
    "**Aufgabe: Für ganz Mutige ;-) <br/>\n",
    "Setzen Sie die Code-Schnipsel zusammen.\n",
    "Starten Sie mit cells=[[11,0.5]].\n",
    "Lassen Sie die Zelle teilen und machen dann 1000 Zeitschritte \"growth and displacement\", danach wieder eine Zellteilung usw. und das ganze dreimal. Plotten Sie das Ergebnis.**"
   ]
  },
  {
   "attachments": {
    "image.png": {
     "image/png": "[encoded data removed]"
    }
   },
   "cell_type": "markdown",
   "id": "8d7c72c7",
   "metadata": {},
   "source": [
    "Tipp: bei mir sehen die Plots für die drei Zeitschritte so aus:\n",
    "![image.png](attachment:image.png)"
   ]
  },
  {
   "cell_type": "code",
   "execution_count": null,
   "id": "17968280",
   "metadata": {},
   "outputs": [],
   "source": []
  }
 ],
 "metadata": {
  "kernelspec": {
   "display_name": "Python 3",
   "language": "python",
   "name": "python3"
  },
  "language_info": {
   "codemirror_mode": {
    "name": "ipython",
    "version": 3
   },
   "file_extension": ".py",
   "mimetype": "text/x-python",
   "name": "python",
   "nbconvert_exporter": "python",
   "pygments_lexer": "ipython3",
   "version": "3.7.1"
  }
 },
 "nbformat": 4,
 "nbformat_minor": 5
}
